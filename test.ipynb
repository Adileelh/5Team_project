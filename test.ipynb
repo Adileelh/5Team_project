{
 "cells": [
  {
   "cell_type": "code",
   "execution_count": 12,
   "metadata": {},
   "outputs": [
    {
     "ename": "IndexError",
     "evalue": "too many indices for array: array is 1-dimensional, but 2 were indexed",
     "output_type": "error",
     "traceback": [
      "\u001b[0;31m---------------------------------------------------------------------------\u001b[0m",
      "\u001b[0;31mIndexError\u001b[0m                                Traceback (most recent call last)",
      "Cell \u001b[0;32mIn[12], line 16\u001b[0m\n\u001b[1;32m     12\u001b[0m     data \u001b[39m=\u001b[39m np\u001b[39m.\u001b[39marray(data)\n\u001b[1;32m     14\u001b[0m \u001b[39m# concatenation of CR &DR to make an unique identifier for cities\u001b[39;00m\n\u001b[0;32m---> 16\u001b[0m col1 \u001b[39m=\u001b[39m data[\u001b[39m13\u001b[39;49m:, \u001b[39m1\u001b[39;49m:\u001b[39m2\u001b[39;49m]\n\u001b[1;32m     19\u001b[0m col2 \u001b[39m=\u001b[39m data[\u001b[39m13\u001b[39m:, \u001b[39m2\u001b[39m:\u001b[39m3\u001b[39m]\n\u001b[1;32m     20\u001b[0m result \u001b[39m=\u001b[39m np\u001b[39m.\u001b[39mcolumn_stack((col1, col2))\n",
      "\u001b[0;31mIndexError\u001b[0m: too many indices for array: array is 1-dimensional, but 2 were indexed"
     ]
    }
   ],
   "source": [
    "import streamlit as st\n",
    "import numpy as np\n",
    "import csv\n",
    "\n",
    "# open the csv file in reading mode\n",
    "with open('datasets/pop-sex-age.csv', 'r') as f:\n",
    "    # use csv.reader to read the csv produce in data_manipulation\n",
    "    reader = csv.reader(f)\n",
    "    # convert datas in list\n",
    "    data = list(reader)\n",
    "    # convert list into a numpy array\n",
    "    data = np.array(data)\n",
    "\n",
    "# concatenation of CR &DR to make an unique identifier for cities\n",
    "\n",
    "col1 = data[13:, 1:2]\n",
    "\n",
    "\n",
    "col2 = data[13:, 2:3]\n",
    "result = np.column_stack((col1, col2))\n",
    "#print(result)\n",
    "result\n",
    "\n",
    "\n",
    "\n",
    "result = np.core.defchararray.add(result[:,0], result[:,1])\n",
    "result\n"
   ]
  }
 ],
 "metadata": {
  "kernelspec": {
   "display_name": ".env",
   "language": "python",
   "name": "python3"
  },
  "language_info": {
   "codemirror_mode": {
    "name": "ipython",
    "version": 3
   },
   "file_extension": ".py",
   "mimetype": "text/x-python",
   "name": "python",
   "nbconvert_exporter": "python",
   "pygments_lexer": "ipython3",
   "version": "3.9.13 (main, Aug 25 2022, 23:26:10) \n[GCC 11.2.0]"
  },
  "orig_nbformat": 4,
  "vscode": {
   "interpreter": {
    "hash": "6e4bb90ca3b8b1e52e38b54f0fa1ab5ab536f04082b6d70152944876770096b8"
   }
  }
 },
 "nbformat": 4,
 "nbformat_minor": 2
}
